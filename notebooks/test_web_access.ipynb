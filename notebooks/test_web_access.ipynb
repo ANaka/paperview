{
 "cells": [
  {
   "cell_type": "code",
   "execution_count": 1,
   "metadata": {},
   "outputs": [],
   "source": [
    "import requests\n",
    "from bs4 import BeautifulSoup\n",
    "import requests\n",
    "from paperview.retrieval.biorxiv_api import (\n",
    "    query_content_detail_by_doi, \n",
    "    query_content_detail_by_interval,\n",
    "    get_all_content_details_by_interval,\n",
    "    query_article_by_doi,\n",
    "    ArticleDetail\n",
    ")\n",
    "from paperview.retrieval.biorxiv_web import (\n",
    "    get_content_detail_for_page,\n",
    "    NamedTemporaryPDF\n",
    "    )\n",
    "\n",
    "from pikepdf import Pdf, PdfImage\n",
    "from io import StringIO\n",
    "\n",
    "from pdfminer.converter import TextConverter\n",
    "from pdfminer.layout import LAParams\n",
    "from pdfminer.pdfdocument import PDFDocument\n",
    "from pdfminer.pdfinterp import PDFResourceManager, PDFPageInterpreter\n",
    "from pdfminer.pdfpage import PDFPage\n",
    "from pdfminer.pdfparser import PDFParser\n",
    "from io import StringIO\n",
    "from pdfminer.high_level import extract_text_to_fp\n",
    "from pdfminer.layout import LAParams\n",
    "\n",
    "%load_ext autoreload\n",
    "%autoreload 2\n"
   ]
  },
  {
   "cell_type": "code",
   "execution_count": 49,
   "metadata": {},
   "outputs": [],
   "source": [
    "url = 'https://www.biorxiv.org/content/10.1101/2022.07.21.500746v1'\n",
    "content_detail = get_content_detail_for_page(url=url)"
   ]
  },
  {
   "cell_type": "code",
   "execution_count": 47,
   "metadata": {},
   "outputs": [],
   "source": [
    "\n",
    "\n",
    "with NamedTemporaryPDF(content_detail.pdf_url) as f:\n",
    "    doc = Pdf.open(f)\n",
    "    images = []\n",
    "    for ii, page in enumerate(doc.pages):\n",
    "        for jj, (name, raw_image) in enumerate(page.images.items()):\n",
    "            image = PdfImage(raw_image)\n",
    "            images.append(image)\n",
    "    \n",
    "    output_string = StringIO()\n",
    "    with open(f, 'rb') as in_file:\n",
    "        parser = PDFParser(in_file)\n",
    "        doc = PDFDocument(parser)\n",
    "        rsrcmgr = PDFResourceManager()\n",
    "        device = TextConverter(rsrcmgr, output_string, laparams=LAParams())\n",
    "        interpreter = PDFPageInterpreter(rsrcmgr, device)\n",
    "        for page in PDFPage.create_pages(doc):\n",
    "            interpreter.process_page(page)\n",
    "            \n",
    "        text = output_string.getvalue()\n",
    "        \n",
    "    layout_output_string = StringIO()\n",
    "    with open(f, 'rb') as fin:\n",
    "        extract_text_to_fp(fin, \n",
    "                           layout_output_string, \n",
    "                           laparams=LAParams(), \n",
    "                           output_type='html', codec=None)\n",
    "        \n",
    "        layout_text = layout_output_string.getvalue()"
   ]
  },
  {
   "cell_type": "code",
   "execution_count": 64,
   "metadata": {},
   "outputs": [
    {
     "data": {
      "text/plain": [
       "'Evaluating instruments for assessing healthspan: a multi-center cross-sectional study on health-related quality of life (HRQL) and frailty in the companion dog'"
      ]
     },
     "execution_count": 64,
     "metadata": {},
     "output_type": "execute_result"
    }
   ],
   "source": [
    "content_detail.title"
   ]
  },
  {
   "cell_type": "code",
   "execution_count": null,
   "metadata": {},
   "outputs": [],
   "source": [
    "content_detail.abstract"
   ]
  },
  {
   "cell_type": "code",
   "execution_count": null,
   "metadata": {},
   "outputs": [],
   "source": [
    "print(text)"
   ]
  },
  {
   "cell_type": "code",
   "execution_count": null,
   "metadata": {},
   "outputs": [],
   "source": [
    "print(layout_text)"
   ]
  },
  {
   "cell_type": "code",
   "execution_count": null,
   "metadata": {},
   "outputs": [],
   "source": [
    "from IPython.core.display import display, HTML\n",
    "display(HTML(layout_text))"
   ]
  }
 ],
 "metadata": {
  "kernelspec": {
   "display_name": "paperview-MgiF5LNT-py3.8",
   "language": "python",
   "name": "python3"
  },
  "language_info": {
   "codemirror_mode": {
    "name": "ipython",
    "version": 3
   },
   "file_extension": ".py",
   "mimetype": "text/x-python",
   "name": "python",
   "nbconvert_exporter": "python",
   "pygments_lexer": "ipython3",
   "version": "3.8.8"
  },
  "orig_nbformat": 4,
  "vscode": {
   "interpreter": {
    "hash": "eb29aa517d4075023e970ff03363d538bbdaca2ab574c348333b9d6d704b9234"
   }
  }
 },
 "nbformat": 4,
 "nbformat_minor": 2
}
