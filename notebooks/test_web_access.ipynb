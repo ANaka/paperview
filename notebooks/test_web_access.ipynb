{
 "cells": [
  {
   "cell_type": "code",
   "execution_count": 1,
   "metadata": {},
   "outputs": [],
   "source": [
    "import requests\n",
    "from bs4 import BeautifulSoup\n",
    "%load_ext autoreload\n",
    "%autoreload 2\n",
    "\n",
    "url = 'https://www.biorxiv.org/content/10.1101/2022.07.21.500746v1'\n",
    "# Send an HTTP request to the URL of the webpage you want to access\n",
    "response = requests.get(url)\n",
    "\n",
    "# Parse the HTML content of the page\n",
    "soup = BeautifulSoup(response.text, 'html.parser')"
   ]
  },
  {
   "cell_type": "code",
   "execution_count": null,
   "metadata": {},
   "outputs": [],
   "source": [
    "<span class=\"highwire-cite-metadata-doi highwire-cite-metadata\"><span class=\"label\">doi:</span> https://doi.org/10.1101/2022.07.21.500746 </span>"
   ]
  },
  {
   "cell_type": "code",
   "execution_count": 16,
   "metadata": {},
   "outputs": [],
   "source": [
    "doi_element = soup.find(class_='highwire-cite-metadata-doi highwire-cite-metadata')\n",
    "doi_url = doi_element.get_text()"
   ]
  },
  {
   "cell_type": "code",
   "execution_count": 17,
   "metadata": {},
   "outputs": [],
   "source": [
    "def extract_doi_from_url(s):\n",
    "    \"doi: https://doi.org/10.1101/2022.12.16.520768 -> 10.1101/2022.12.16.520768\"\n",
    "    return s.split(\"https://doi.org/\")[-1].strip()"
   ]
  },
  {
   "cell_type": "code",
   "execution_count": 18,
   "metadata": {},
   "outputs": [
    {
     "data": {
      "text/plain": [
       "'doi: https://doi.org/10.1101/2022.07.21.500746 '"
      ]
     },
     "execution_count": 18,
     "metadata": {},
     "output_type": "execute_result"
    }
   ],
   "source": [
    "doi_url"
   ]
  },
  {
   "cell_type": "code",
   "execution_count": 20,
   "metadata": {},
   "outputs": [],
   "source": [
    "doi = extract_doi_from_url(doi_url)"
   ]
  },
  {
   "cell_type": "code",
   "execution_count": 2,
   "metadata": {},
   "outputs": [
    {
     "ename": "ModuleNotFoundError",
     "evalue": "No module named 'paperview.retrieval.biorxiv'",
     "output_type": "error",
     "traceback": [
      "\u001b[0;31m---------------------------------------------------------------------------\u001b[0m",
      "\u001b[0;31mModuleNotFoundError\u001b[0m                       Traceback (most recent call last)",
      "Cell \u001b[0;32mIn[2], line 2\u001b[0m\n\u001b[1;32m      1\u001b[0m \u001b[39mimport\u001b[39;00m \u001b[39mrequests\u001b[39;00m\n\u001b[0;32m----> 2\u001b[0m \u001b[39mfrom\u001b[39;00m \u001b[39mpaperview\u001b[39;00m\u001b[39m.\u001b[39;00m\u001b[39mretrieval\u001b[39;00m\u001b[39m.\u001b[39;00m\u001b[39mbiorxiv\u001b[39;00m \u001b[39mimport\u001b[39;00m (\n\u001b[1;32m      3\u001b[0m     query_content_detail_by_doi, \n\u001b[1;32m      4\u001b[0m     query_content_detail_by_interval,\n\u001b[1;32m      5\u001b[0m     get_all_content_details_by_interval,\n\u001b[1;32m      6\u001b[0m     query_article_by_doi,\n\u001b[1;32m      7\u001b[0m )\n\u001b[1;32m     10\u001b[0m response \u001b[39m=\u001b[39m query_article_by_doi(doi)\n",
      "\u001b[0;31mModuleNotFoundError\u001b[0m: No module named 'paperview.retrieval.biorxiv'"
     ]
    }
   ],
   "source": [
    "import requests\n",
    "from paperview.retrieval.biorxiv import (\n",
    "    query_content_detail_by_doi, \n",
    "    query_content_detail_by_interval,\n",
    "    get_all_content_details_by_interval,\n",
    "    query_article_by_doi,\n",
    ")\n",
    "\n",
    "\n",
    "response = query_article_by_doi(doi)"
   ]
  }
 ],
 "metadata": {
  "kernelspec": {
   "display_name": "Python 3.8.8 ('.venv': poetry)",
   "language": "python",
   "name": "python3"
  },
  "language_info": {
   "codemirror_mode": {
    "name": "ipython",
    "version": 3
   },
   "file_extension": ".py",
   "mimetype": "text/x-python",
   "name": "python",
   "nbconvert_exporter": "python",
   "pygments_lexer": "ipython3",
   "version": "3.8.8"
  },
  "orig_nbformat": 4,
  "vscode": {
   "interpreter": {
    "hash": "edb4f38bb716d7593e05f21b0ca169252ffa260aa67346a4ab96ac600bffa96f"
   }
  }
 },
 "nbformat": 4,
 "nbformat_minor": 2
}
