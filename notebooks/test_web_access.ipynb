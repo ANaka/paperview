{
 "cells": [
  {
   "cell_type": "code",
   "execution_count": 163,
   "metadata": {},
   "outputs": [
    {
     "name": "stdout",
     "output_type": "stream",
     "text": [
      "The autoreload extension is already loaded. To reload it, use:\n",
      "  %reload_ext autoreload\n"
     ]
    }
   ],
   "source": [
    "import requests\n",
    "from bs4 import BeautifulSoup\n",
    "import requests\n",
    "from paperview.retrieval.biorxiv_api import (\n",
    "    Article\n",
    ")\n",
    "from paperview.retrieval import pdf_extraction\n",
    "import tempfile\n",
    "from io import StringIO\n",
    "from PIL import Image\n",
    "import seaborn as sns\n",
    "import pandas as pd\n",
    "from io import StringIO\n",
    "\n",
    "import pdfplumber\n",
    "\n",
    "%load_ext autoreload\n",
    "%autoreload 2\n"
   ]
  },
  {
   "cell_type": "code",
   "execution_count": 178,
   "metadata": {},
   "outputs": [
    {
     "name": "stderr",
     "output_type": "stream",
     "text": [
      "100%|██████████| 42/42 [00:10<00:00,  4.17it/s]\n"
     ]
    }
   ],
   "source": [
    "url = 'https://www.biorxiv.org/content/10.1101/2022.07.21.500746v1'\n",
    "# url = 'https://www.biorxiv.org/content/10.1101/456574v1'\n",
    "# url = 'https://www.biorxiv.org/content/10.1101/2022.12.21.521407v1?rss=1'\n",
    "url = 'https://www.biorxiv.org/content/10.1101/2022.09.12.507457v1.full'\n",
    "url = 'https://www.biorxiv.org/content/10.1101/386375v1.full'\n",
    "# url = 'https://www.biorxiv.org/content/10.1101/2022.07.20.500837v1?rss=1'\n",
    "url = 'https://www.biorxiv.org/content/10.1101/180125v2.full'\n",
    "article = Article.from_content_page_url(url, prog_bar=True)"
   ]
  },
  {
   "cell_type": "code",
   "execution_count": null,
   "metadata": {},
   "outputs": [],
   "source": [
    "ii = 3\n",
    "print(article.data['images'][ii]['image_number'])\n",
    "print(article.data['images'][ii]['candidate_labels'])\n",
    "article.data['images'][ii]['image']"
   ]
  }
 ],
 "metadata": {
  "kernelspec": {
   "display_name": "paperview-MgiF5LNT-py3.8",
   "language": "python",
   "name": "python3"
  },
  "language_info": {
   "codemirror_mode": {
    "name": "ipython",
    "version": 3
   },
   "file_extension": ".py",
   "mimetype": "text/x-python",
   "name": "python",
   "nbconvert_exporter": "python",
   "pygments_lexer": "ipython3",
   "version": "3.8.8"
  },
  "orig_nbformat": 4,
  "vscode": {
   "interpreter": {
    "hash": "eb29aa517d4075023e970ff03363d538bbdaca2ab574c348333b9d6d704b9234"
   }
  }
 },
 "nbformat": 4,
 "nbformat_minor": 2
}
