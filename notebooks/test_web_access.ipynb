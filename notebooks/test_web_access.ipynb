{
 "cells": [
  {
   "cell_type": "code",
   "execution_count": 266,
   "metadata": {},
   "outputs": [
    {
     "name": "stdout",
     "output_type": "stream",
     "text": [
      "The autoreload extension is already loaded. To reload it, use:\n",
      "  %reload_ext autoreload\n"
     ]
    }
   ],
   "source": [
    "import requests\n",
    "from bs4 import BeautifulSoup\n",
    "import requests\n",
    "from paperview.retrieval.biorxiv_api import (\n",
    "    Article\n",
    ")\n",
    "from paperview.retrieval import pdf_extraction\n",
    "import tempfile\n",
    "from io import StringIO\n",
    "from PIL import Image\n",
    "import seaborn as sns\n",
    "import pandas as pd\n",
    "from io import StringIO\n",
    "\n",
    "import pdfplumber\n",
    "\n",
    "%load_ext autoreload\n",
    "%autoreload 2\n"
   ]
  },
  {
   "cell_type": "code",
   "execution_count": 388,
   "metadata": {},
   "outputs": [
    {
     "name": "stderr",
     "output_type": "stream",
     "text": [
      "100%|██████████| 36/36 [00:20<00:00,  1.79it/s]\n"
     ]
    }
   ],
   "source": [
    "url = 'https://www.biorxiv.org/content/10.1101/2022.07.21.500746v1'\n",
    "# url = 'https://www.biorxiv.org/content/10.1101/456574v1'\n",
    "# url = 'https://www.biorxiv.org/content/10.1101/2022.12.21.521407v1?rss=1'\n",
    "# url = 'https://www.biorxiv.org/content/10.1101/2022.09.12.507457v1.full'\n",
    "# url = 'https://www.biorxiv.org/content/10.1101/386375v1.full'\n",
    "# url = 'https://www.biorxiv.org/content/10.1101/2022.07.20.500837v1?rss=1'\n",
    "# url = 'https://www.biorxiv.org/content/10.1101/180125v2.full'\n",
    "# url = 'https://www.biorxiv.org/content/10.1101/2022.12.23.521820v1?rss=1'\n",
    "article = Article.from_content_page_url(url, prog_bar=True)"
   ]
  },
  {
   "cell_type": "code",
   "execution_count": 371,
   "metadata": {},
   "outputs": [
    {
     "data": {
      "text/plain": [
       "\n",
       "ArticleDetail(\n",
       "    title='Determinants of Motor Neuron Functional Subtypes Important for Locomotor Speed',\n",
       "    authors=[\"D'Elia, K. P.\", 'Hameedy, H.', 'Goldblatt, D.', 'Frazel, P.', 'Kriese, M.', 'Zhu, Y.', 'Hamling, K. R.', 'Kawakami, K.', 'Liddelow, S. A.', 'Schoppik, D.', 'Dasen, J. S.'],\n",
       "    date='2022-12-26',\n",
       "    category='neuroscience',\n",
       "    doi='10.1101/2022.12.23.521820',\n",
       "    author_corresponding='Jeremy S Dasen',\n",
       "    author_corresponding_institution='NYU Grossman School of Medicine',\n",
       "    version='1',\n",
       "    type='new results',\n",
       "    license='cc_by',\n",
       "    abstract='Locomotion requires precise control of the strength and speed of muscle contraction and is achieved by recruiting functionally-distinct subtypes of motor neurons (MNs). MNs are essential to movement and differentially susceptible in disease, but little is known about how MNs acquire functional subtype-specific molecular features during development. Using single cell RNA profiling in larval zebrafish, we identify novel and conserved molecular signatures for MN functional subtypes, and identify genes expressed in both early post-mitotic and mature MNs. Assessing MN development in genetic mutants, we define a molecular program essential for MN functional subtype specification. Two evolutionarily-conserved transcription factors, Prdm16 and Evi1, are both functional subtype-specific determinants integral for fast MN development. Loss of prdm16 or evi1 causes fast MNs to develop transcriptional profiles and innervation similar to slow MNs. These results reveal the molecular diversity of vertebrate spinal MNs and demonstrate that functional subtypes are specified through intrinsic transcriptional codes.',\n",
       "    published='NA',\n",
       "    server='biorxiv',\n",
       "    jatsxml='https://www.biorxiv.org/content/early/2022/12/26/2022.12.23.521820.source.xml')"
      ]
     },
     "execution_count": 371,
     "metadata": {},
     "output_type": "execute_result"
    }
   ],
   "source": [
    "article.article_detail"
   ]
  },
  {
   "cell_type": "code",
   "execution_count": 369,
   "metadata": {},
   "outputs": [],
   "source": [
    "article.display_overview()"
   ]
  },
  {
   "cell_type": "code",
   "execution_count": 268,
   "metadata": {},
   "outputs": [],
   "source": [
    "lines = article.data['lines']"
   ]
  },
  {
   "cell_type": "code",
   "execution_count": 269,
   "metadata": {},
   "outputs": [],
   "source": [
    "def add_paragraph_number(lines: pd.DataFrame) -> pd.DataFrame:\n",
    "    \"\"\"Add a paragraph number to each line of text.\n",
    "    Paragraphs are defined as groups of lines that are separated by at least 1.5 times the average line height.\n",
    "    \"\"\"\n",
    "    lines = lines.copy()\n",
    "    \n",
    "    # filter out biorxiv watermark lines\n",
    "    lines = lines.query('is_biorxiv_watermark_line == False')\n",
    "    \n",
    "    # filter out single word lines\n",
    "    lines = lines.query('num_words > 1')\n",
    "    \n",
    "    lines['paragraph_number'] = 0\n",
    "    lines['line_height'] = lines['bottom_abs'] - lines['top_abs']\n",
    "    avg_line_height = lines['line_height'].mean()\n",
    "    lines['paragraph_number'] = (lines['dist_to_next_line'] > 1.5 * avg_line_height).cumsum()\n",
    "    return lines\n",
    "\n",
    "def lines_to_paragraphs(lines: pd.DataFrame) -> pd.DataFrame:\n",
    "    \"\"\"Convert a DataFrame of lines of text to a DataFrame of paragraphs.\n",
    "    Paragraphs are defined as groups of lines that are separated by at least 1.5 times the average line height.\n",
    "    \"\"\"\n",
    "    paragraphs = lines.groupby('paragraph_number').agg({'text': ' '.join})\n",
    "    return paragraphs"
   ]
  },
  {
   "cell_type": "code",
   "execution_count": 271,
   "metadata": {},
   "outputs": [],
   "source": [
    "lines = add_paragraph_number(lines)\n",
    "paragraphs = lines_to_paragraphs(lines)"
   ]
  },
  {
   "cell_type": "code",
   "execution_count": 363,
   "metadata": {},
   "outputs": [],
   "source": [
    "FIGURE_INDICATORS = ['figure', 'fig', 'fig.']\n",
    "figure_line_numbers = lines.loc[\n",
    "        lines['text'].str.lower().str.contains('|'.join(FIGURE_INDICATORS)), 'line_number']"
   ]
  },
  {
   "cell_type": "code",
   "execution_count": 367,
   "metadata": {},
   "outputs": [],
   "source": [
    "# for each figure line number, get text from that line and the next 10 lines\n",
    "figure_texts = []\n",
    "for figure_line_number in figure_line_numbers:\n",
    "    figure_line_set = lines.loc[\n",
    "        (lines['line_number'] >= figure_line_number) &\n",
    "        (lines['line_number'] < figure_line_number + 10)\n",
    "    ]\n",
    "    text = figure_line_set['text'].str.cat(sep=' ')\n",
    "    figure_texts.append(text)"
   ]
  },
  {
   "cell_type": "code",
   "execution_count": null,
   "metadata": {},
   "outputs": [],
   "source": [
    "figure_texts"
   ]
  },
  {
   "cell_type": "code",
   "execution_count": null,
   "metadata": {},
   "outputs": [],
   "source": [
    "article.article_detail"
   ]
  },
  {
   "cell_type": "code",
   "execution_count": 389,
   "metadata": {},
   "outputs": [],
   "source": [
    "jatsxml_string = requests.get(article.article_detail.jatsxml).text"
   ]
  },
  {
   "cell_type": "code",
   "execution_count": 390,
   "metadata": {},
   "outputs": [],
   "source": [
    "from lxml import etree as ET"
   ]
  },
  {
   "cell_type": "code",
   "execution_count": 391,
   "metadata": {},
   "outputs": [],
   "source": [
    "# Parse the XML string\n",
    "root = ET.fromstring(jatsxml_string)"
   ]
  },
  {
   "cell_type": "code",
   "execution_count": 380,
   "metadata": {},
   "outputs": [],
   "source": [
    "# Extract the body text\n",
    "body_text = root.xpath(\"//body//p/text()\")\n"
   ]
  },
  {
   "cell_type": "code",
   "execution_count": 392,
   "metadata": {},
   "outputs": [],
   "source": [
    "from bs4 import BeautifulSoup\n",
    "\n",
    "# Parse the XML string\n",
    "soup = BeautifulSoup(jatsxml_string, 'lxml')"
   ]
  },
  {
   "cell_type": "code",
   "execution_count": null,
   "metadata": {},
   "outputs": [],
   "source": [
    "soup.find_all('body')"
   ]
  },
  {
   "cell_type": "code",
   "execution_count": 397,
   "metadata": {},
   "outputs": [
    {
     "ename": "AttributeError",
     "evalue": "'NoneType' object has no attribute 'text'",
     "output_type": "error",
     "traceback": [
      "\u001b[0;31m---------------------------------------------------------------------------\u001b[0m",
      "\u001b[0;31mAttributeError\u001b[0m                            Traceback (most recent call last)",
      "Cell \u001b[0;32mIn[397], line 19\u001b[0m\n\u001b[1;32m     17\u001b[0m figure_captions \u001b[39m=\u001b[39m []\n\u001b[1;32m     18\u001b[0m \u001b[39mfor\u001b[39;00m fig \u001b[39min\u001b[39;00m figures:\n\u001b[0;32m---> 19\u001b[0m     caption \u001b[39m=\u001b[39m fig\u001b[39m.\u001b[39;49mfind(\u001b[39m'\u001b[39;49m\u001b[39mcaption\u001b[39;49m\u001b[39m'\u001b[39;49m)\u001b[39m.\u001b[39;49mtext\n\u001b[1;32m     20\u001b[0m     figure_captions\u001b[39m.\u001b[39mappend(caption)\n",
      "\u001b[0;31mAttributeError\u001b[0m: 'NoneType' object has no attribute 'text'"
     ]
    }
   ],
   "source": [
    "\n",
    "# Extract the body element\n",
    "body = soup.find('body')\n",
    "\n",
    "# Extract all sec elements within the body element\n",
    "sections = body.find_all('sec')\n",
    "\n",
    "# Iterate through the sec elements and extract the title and p elements\n",
    "for sec in sections:\n",
    "    title = sec.find('title').text\n",
    "    paragraphs = sec.find_all('p')\n",
    "    body_text = [p.text for p in paragraphs]\n",
    "\n",
    "    # Extract all fig elements within the body element\n",
    "    figures = sec.find_all('fig')\n",
    "\n",
    "    # Iterate through the fig elements and extract the caption element\n",
    "    figure_captions = []\n",
    "    for fig in figures:\n",
    "        caption = fig.find('caption').text\n",
    "        figure_captions.append(caption)"
   ]
  },
  {
   "cell_type": "code",
   "execution_count": 394,
   "metadata": {},
   "outputs": [
    {
     "ename": "AttributeError",
     "evalue": "'NoneType' object has no attribute 'text'",
     "output_type": "error",
     "traceback": [
      "\u001b[0;31m---------------------------------------------------------------------------\u001b[0m",
      "\u001b[0;31mAttributeError\u001b[0m                            Traceback (most recent call last)",
      "Cell \u001b[0;32mIn[394], line 13\u001b[0m\n\u001b[1;32m     11\u001b[0m     \u001b[39m# Extract the captions of the figures in the section\u001b[39;00m\n\u001b[1;32m     12\u001b[0m     \u001b[39mfor\u001b[39;00m fig \u001b[39min\u001b[39;00m sec\u001b[39m.\u001b[39mfind_all(\u001b[39m'\u001b[39m\u001b[39mfig\u001b[39m\u001b[39m'\u001b[39m):\n\u001b[0;32m---> 13\u001b[0m         caption \u001b[39m=\u001b[39m fig\u001b[39m.\u001b[39;49mcaption\u001b[39m.\u001b[39;49mtext\n\u001b[1;32m     14\u001b[0m         figure_captions\u001b[39m.\u001b[39mappend(caption)\n\u001b[1;32m     16\u001b[0m \u001b[39mprint\u001b[39m(body_text)\n",
      "\u001b[0;31mAttributeError\u001b[0m: 'NoneType' object has no attribute 'text'"
     ]
    }
   ],
   "source": [
    "body_text = ''\n",
    "figure_captions = []\n",
    "\n",
    "for sec in soup.find_all('sec'):\n",
    "    # Extract the title and body text of the section\n",
    "    title = sec.title.text\n",
    "    body_text += f'<h1>{title}</h1>'\n",
    "    for p in sec.find_all('p'):\n",
    "        body_text += p.text\n",
    "    \n",
    "    # Extract the captions of the figures in the section\n",
    "    for fig in sec.find_all('fig'):\n",
    "        caption = fig.caption.text\n",
    "        figure_captions.append(caption)\n",
    "\n",
    "print(body_text)\n",
    "print(figure_captions)"
   ]
  },
  {
   "cell_type": "code",
   "execution_count": 384,
   "metadata": {},
   "outputs": [
    {
     "data": {
      "text/plain": [
       "''"
      ]
     },
     "execution_count": 384,
     "metadata": {},
     "output_type": "execute_result"
    }
   ],
   "source": [
    "body_text"
   ]
  }
 ],
 "metadata": {
  "kernelspec": {
   "display_name": "paperview-MgiF5LNT-py3.8",
   "language": "python",
   "name": "python3"
  },
  "language_info": {
   "codemirror_mode": {
    "name": "ipython",
    "version": 3
   },
   "file_extension": ".py",
   "mimetype": "text/x-python",
   "name": "python",
   "nbconvert_exporter": "python",
   "pygments_lexer": "ipython3",
   "version": "3.8.8"
  },
  "orig_nbformat": 4,
  "vscode": {
   "interpreter": {
    "hash": "eb29aa517d4075023e970ff03363d538bbdaca2ab574c348333b9d6d704b9234"
   }
  }
 },
 "nbformat": 4,
 "nbformat_minor": 2
}
