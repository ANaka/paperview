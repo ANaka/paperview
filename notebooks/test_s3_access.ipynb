{
 "cells": [
  {
   "cell_type": "code",
   "execution_count": 26,
   "metadata": {},
   "outputs": [],
   "source": [
    "import boto3\n",
    "import zipfile\n",
    "import xml.etree.ElementTree as ET\n",
    "import os\n",
    "\n",
    "class Bucket:\n",
    "    def __init__(\n",
    "        self, \n",
    "        bucket_name:str, \n",
    "        access_key=None, \n",
    "        secret_key=None, \n",
    "        requester_pays='True', \n",
    "        prefix='',\n",
    "        ):\n",
    "        # Create an S3 client using the given access and secret keys\n",
    "        self.s3_client = boto3.client('s3', aws_access_key_id=access_key, aws_secret_access_key=secret_key)\n",
    "        \n",
    "        self.bucket_name = bucket_name\n",
    "        self.requester_pays = requester_pays\n",
    "        self.prefix = prefix\n",
    "\n",
    "    \n",
    "    def list_objects(self):\n",
    "        # List the objects in the bucket, with the given prefix and requester pays flag\n",
    "        paginator = self.s3_client.get_paginator('list_objects_v2')\n",
    "        page_iterator = paginator.paginate(Bucket=self.bucket_name, Prefix=self.prefix, RequestPayer='requester')\n",
    "        for page in page_iterator:\n",
    "            for object in page['Contents']:\n",
    "                yield object\n",
    "    \n",
    "    def download_object(self, object_key, filename):\n",
    "        # Download the given object from the bucket and save it to the given filename\n",
    "        self.s3_client.download_file(\n",
    "            Bucket=self.bucket_name, \n",
    "            Key=object_key, \n",
    "            Filename=filename, \n",
    "            ExtraArgs={'RequestPayer': self.requester_pays})\n",
    "        \n",
    "        # Return the manuscript title and the files\n",
    "    def parse_manifest(self, zip_filename):\n",
    "        # Extract the zip file and parse the manifest.xml file\n",
    "        with zipfile.ZipFile(zip_filename, 'r') as zip_ref:\n",
    "            zip_ref.extractall()\n",
    "        tree = ET.parse('manifest.xml')\n",
    "        root = tree.getroot()\n",
    "        \n",
    "        # Return the manuscript title and the files in the content folder\n",
    "        title = root.find('./title')\n",
    "        files = []\n",
    "        for file in root.findall('./file'):\n",
    "            name = file.find('name').text\n",
    "            size = file.find('size').text\n",
    "            files.append((name, size))\n",
    "        return title.text, files\n",
    "    \n",
    "    def cleanup(self, zip_filename):\n",
    "        # Clean up the extracted files\n",
    "        zip_ref.close()\n",
    "        os.remove(zip_filename)\n",
    "        os.remove('manifest.xml')\n",
    "\n",
    "# Example usage\n",
    "\n",
    "\n",
    "# Set the bucket name and the requester pays flag\n",
    "bucket_name = 'biorxiv-src-monthly'\n",
    "requester_pays = True\n",
    "\n",
    "# Set the prefix to filter the objects by\n",
    "prefix = ''\n",
    "\n",
    "# Create a Bucket instance\n",
    "bucket = Bucket(bucket_name=bucket_name)\n",
    "\n",
    "objects = bucket.list_objects()\n"
   ]
  },
  {
   "cell_type": "code",
   "execution_count": 30,
   "metadata": {},
   "outputs": [
    {
     "data": {
      "text/plain": [
       "{'Key': 'Back_Content/Batch_01/006789a2-6c19-1014-a2c5-9e42b34c170a.meca',\n",
       " 'LastModified': datetime.datetime(2019, 11, 19, 6, 50, 27, tzinfo=tzutc()),\n",
       " 'ETag': '\"2a9838726070714b44f14684cb230415\"',\n",
       " 'Size': 1191525,\n",
       " 'StorageClass': 'STANDARD'}"
      ]
     },
     "execution_count": 30,
     "metadata": {},
     "output_type": "execute_result"
    }
   ],
   "source": [
    "object = next(objects)\n",
    "object"
   ]
  },
  {
   "cell_type": "code",
   "execution_count": null,
   "metadata": {},
   "outputs": [],
   "source": [
    "s3_client.download_file(\n",
    "    Bucket='biorxiv-src-monthly', \n",
    "    Key='Current_Content/July_2022/ffee1f2e-6c3c-1014-a990-d896413aab59.meca', \n",
    "    Filename='temp.zip', \n",
    "    ExtraArgs={'RequestPayer': 'True'})"
   ]
  },
  {
   "cell_type": "code",
   "execution_count": null,
   "metadata": {},
   "outputs": [],
   "source": [
    "bucket.download_object(object_key='Current_Content/July_2022/ffee1f2e-6c3c-1014-a990-d896413aab59.meca', filename='temp.zip')"
   ]
  },
  {
   "cell_type": "code",
   "execution_count": null,
   "metadata": {},
   "outputs": [],
   "source": [
    "\n",
    "# Iterate over the objects in the bucket\n",
    "for object in objects:\n",
    "    # Download the object\n",
    "    bucket.download_object(object['Key'], 'temp.zip')\n",
    "    \n",
    "    # Parse the manifest and print the title and file names and sizes\n",
    "    title, files = bucket.parse_manifest('temp.zip')\n",
    "    print(title)\n",
    "    for name, size in files:\n",
    "        print(f'{name}: {size} bytes')\n",
    "    \n",
    "    # Clean up\n",
    "    bucket.cleanup('temp.zip')\n",
    "\n",
    "    break\n",
    "\n"
   ]
  }
 ],
 "metadata": {
  "kernelspec": {
   "display_name": "Python 3.8.8 ('.venv': poetry)",
   "language": "python",
   "name": "python3"
  },
  "language_info": {
   "codemirror_mode": {
    "name": "ipython",
    "version": 3
   },
   "file_extension": ".py",
   "mimetype": "text/x-python",
   "name": "python",
   "nbconvert_exporter": "python",
   "pygments_lexer": "ipython3",
   "version": "3.8.8"
  },
  "orig_nbformat": 4,
  "vscode": {
   "interpreter": {
    "hash": "edb4f38bb716d7593e05f21b0ca169252ffa260aa67346a4ab96ac600bffa96f"
   }
  }
 },
 "nbformat": 4,
 "nbformat_minor": 2
}
