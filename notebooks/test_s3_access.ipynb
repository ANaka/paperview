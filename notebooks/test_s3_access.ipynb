{
 "cells": [
  {
   "cell_type": "code",
   "execution_count": 2,
   "metadata": {},
   "outputs": [
    {
     "name": "stdout",
     "output_type": "stream",
     "text": [
      "Back_Content/\n",
      "Back_Content/Batch_01/\n",
      "Back_Content/Batch_01/0064b7c2-6c08-1014-9382-821844e0e0e5.meca\n",
      "Back_Content/Batch_01/006789a2-6c19-1014-a2c5-9e42b34c170a.meca\n",
      "Back_Content/Batch_01/00774734-6c28-1014-bf5f-9340390b63c3.meca\n",
      "Back_Content/Batch_01/00ca4d31-6c03-1014-ba3a-a9ac76ede23b.meca\n",
      "Back_Content/Batch_01/00ea436b-6c19-1014-b5f2-bd6047b47cb8.meca\n",
      "Back_Content/Batch_01/00ebf884-6c08-1014-8d5a-cc84c59e05fe.meca\n",
      "Back_Content/Batch_01/017a5006-6c19-1014-8fd1-acf2c586fd93.meca\n",
      "Back_Content/Batch_01/017e3ddb-6c28-1014-be9e-bc3486017561.meca\n"
     ]
    }
   ],
   "source": [
    "import boto3\n",
    "\n",
    "# Replace YOUR_ACCESS_KEY and YOUR_SECRET_KEY with your own access and secret keys\n",
    "s3 = boto3.client('s3')\n",
    "\n",
    "# Set the bucket name and the requester pays flag\n",
    "bucket_name = 'biorxiv-src-monthly'\n",
    "requester_pays = True\n",
    "\n",
    "# Set the prefix to filter the objects by\n",
    "prefix = ''\n",
    "\n",
    "# Set the maximum number of objects to retrieve\n",
    "max_objects = 10\n",
    "\n",
    "# Call the list_objects_v2 function to retrieve the objects\n",
    "objects = s3.list_objects_v2(Bucket=bucket_name, Prefix=prefix, MaxKeys=max_objects, RequestPayer='requester')\n",
    "\n",
    "# Iterate over the objects and print the object key for each object\n",
    "for object in objects['Contents']:\n",
    "    print(object['Key'])\n"
   ]
  },
  {
   "cell_type": "code",
   "execution_count": 3,
   "metadata": {},
   "outputs": [],
   "source": [
    "\n",
    "# Initialize the pagination variables\n",
    "paginator = s3.get_paginator('list_objects_v2')\n",
    "page_iterator = paginator.paginate(Bucket=bucket_name, Prefix=prefix, RequestPayer='requester')\n"
   ]
  },
  {
   "cell_type": "code",
   "execution_count": 5,
   "metadata": {},
   "outputs": [],
   "source": [
    "page = next(iter(page_iterator))"
   ]
  },
  {
   "cell_type": "code",
   "execution_count": null,
   "metadata": {},
   "outputs": [],
   "source": [
    "page['Contents']"
   ]
  },
  {
   "cell_type": "code",
   "execution_count": null,
   "metadata": {},
   "outputs": [],
   "source": [
    "\n",
    "# Iterate over the pages and print the object key for each object\n",
    "for page in page_iterator:\n",
    "    for object in page['Contents']:\n",
    "        print(object['Key'])"
   ]
  },
  {
   "cell_type": "code",
   "execution_count": null,
   "metadata": {},
   "outputs": [],
   "source": [
    "import boto3\n",
    "import zipfile\n",
    "import xml.etree.ElementTree as ET\n",
    "import os\n",
    "\n",
    "def get_s3_client(access_key, secret_key):\n",
    "    # Create an S3 client using the given access and secret keys\n",
    "    return boto3.client('s3', aws_access_key_id=access_key, aws_secret_access_key=secret_key)\n",
    "\n",
    "def list_objects(s3_client, bucket_name, prefix='', requester_pays=True):\n",
    "    # List the objects in the given bucket, with the given prefix and requester pays flag\n",
    "    paginator = s3_client.get_paginator('list_objects_v2')\n",
    "    page_iterator = paginator.paginate(Bucket=bucket_name, Prefix=prefix, RequestPayer='requester')\n",
    "    for page in page_iterator:\n",
    "        for object in page['Contents']:\n",
    "            yield object\n",
    "\n",
    "def download_object(s3_client, bucket_name, object_key, filename, requester_pays=True):\n",
    "    # Download the given object from the bucket and save it to the given filename\n",
    "    s3_client.download_file(Bucket=bucket_name, Key=object_key, Filename=filename, RequestPayer='requester')\n",
    "\n",
    "def parse_manifest(zip_filename):\n",
    "    # Extract the zip file and parse the manifest.xml file\n",
    "    with zipfile.ZipFile(zip_filename, 'r') as zip_ref:\n",
    "        zip_ref.extractall()\n",
    "    tree = ET.parse('manifest.xml')\n",
    "    root = tree.getroot()\n",
    "    \n",
    "    # Return the manuscript title and the files in the content folder\n",
    "    title = root.find('./title')\n",
    "    files = []\n",
    "    for file in root.findall('./file'):\n",
    "        name = file.find('name').text\n",
    "        size = file.find('size').text\n",
    "        files.append((name, size))\n",
    "    return title.text, files\n",
    "\n",
    "def cleanup(zip_filename):\n",
    "    # Clean up the extracted files\n",
    "    zip_ref.close()\n",
    "    os.remove(zip_filename)\n",
    "    os.remove('manifest.xml')\n",
    "\n",
    "# Example usage\n",
    "\n",
    "# Replace YOUR_ACCESS_KEY and YOUR_SECRET_KEY with your own access and secret keys\n",
    "access_key = 'YOUR_ACCESS_KEY'\n",
    "secret_key = 'YOUR_SECRET_KEY'\n",
    "\n",
    "# Set the bucket name and the requester pays flag\n",
    "bucket_name = 'biorxiv-src-monthly'\n",
    "requester_pays = True\n",
    "\n",
    "# Set the prefix to filter the objects by\n",
    "prefix = ''\n",
    "\n",
    "# Get an S3 client\n",
    "s3_client = get_s3_client(access_key, secret_key)\n",
    "\n",
    "# Iterate over the objects in the bucket\n",
    "for object in list_objects(s3_client, bucket_name, prefix, requester_pays):\n",
    "    # Download the object\n",
    "    download_object(s3_client, bucket_name, object['Key'], 'temp.zip', requester_pays)\n",
    "\n",
    "    # Parse the manifest and print the title and file names and sizes\n",
    "    title, files = parse_manifest('temp.zip')\n",
    "    print(title)\n",
    "    for name, size in files:\n",
    "        print(f'{name}: {size} bytes')\n",
    "\n",
    "    # Clean up\n",
    "    cleanup('temp.zip')\n"
   ]
  }
 ],
 "metadata": {
  "kernelspec": {
   "display_name": "paperview-4k-hCekM-py3.11",
   "language": "python",
   "name": "python3"
  },
  "language_info": {
   "codemirror_mode": {
    "name": "ipython",
    "version": 3
   },
   "file_extension": ".py",
   "mimetype": "text/x-python",
   "name": "python",
   "nbconvert_exporter": "python",
   "pygments_lexer": "ipython3",
   "version": "3.11.0"
  },
  "orig_nbformat": 4,
  "vscode": {
   "interpreter": {
    "hash": "13bd9755bdc1f7f946bc8be6624e106ea58c17d01acc6017bdb2e1f4dff75035"
   }
  }
 },
 "nbformat": 4,
 "nbformat_minor": 2
}
