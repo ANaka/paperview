{
 "cells": [
  {
   "cell_type": "code",
   "execution_count": 2,
   "metadata": {},
   "outputs": [
    {
     "name": "stdout",
     "output_type": "stream",
     "text": [
      "Back_Content/\n",
      "Back_Content/Batch_01/\n",
      "Back_Content/Batch_01/0064b7c2-6c08-1014-9382-821844e0e0e5.meca\n",
      "Back_Content/Batch_01/006789a2-6c19-1014-a2c5-9e42b34c170a.meca\n",
      "Back_Content/Batch_01/00774734-6c28-1014-bf5f-9340390b63c3.meca\n",
      "Back_Content/Batch_01/00ca4d31-6c03-1014-ba3a-a9ac76ede23b.meca\n",
      "Back_Content/Batch_01/00ea436b-6c19-1014-b5f2-bd6047b47cb8.meca\n",
      "Back_Content/Batch_01/00ebf884-6c08-1014-8d5a-cc84c59e05fe.meca\n",
      "Back_Content/Batch_01/017a5006-6c19-1014-8fd1-acf2c586fd93.meca\n",
      "Back_Content/Batch_01/017e3ddb-6c28-1014-be9e-bc3486017561.meca\n"
     ]
    }
   ],
   "source": [
    "import boto3\n",
    "\n",
    "# Replace YOUR_ACCESS_KEY and YOUR_SECRET_KEY with your own access and secret keys\n",
    "s3 = boto3.client('s3')\n",
    "\n",
    "# Set the bucket name and the requester pays flag\n",
    "bucket_name = 'biorxiv-src-monthly'\n",
    "requester_pays = True\n",
    "\n",
    "# Set the prefix to filter the objects by\n",
    "prefix = ''\n",
    "\n",
    "# Set the maximum number of objects to retrieve\n",
    "max_objects = 10\n",
    "\n",
    "# Call the list_objects_v2 function to retrieve the objects\n",
    "objects = s3.list_objects_v2(Bucket=bucket_name, Prefix=prefix, MaxKeys=max_objects, RequestPayer='requester')\n",
    "\n",
    "# Iterate over the objects and print the object key for each object\n",
    "for object in objects['Contents']:\n",
    "    print(object['Key'])\n"
   ]
  },
  {
   "cell_type": "code",
   "execution_count": 3,
   "metadata": {},
   "outputs": [],
   "source": [
    "\n",
    "# Initialize the pagination variables\n",
    "paginator = s3.get_paginator('list_objects_v2')\n",
    "page_iterator = paginator.paginate(Bucket=bucket_name, Prefix=prefix, RequestPayer='requester')\n"
   ]
  },
  {
   "cell_type": "code",
   "execution_count": 5,
   "metadata": {},
   "outputs": [],
   "source": [
    "page = next(iter(page_iterator))"
   ]
  },
  {
   "cell_type": "code",
   "execution_count": null,
   "metadata": {},
   "outputs": [],
   "source": [
    "page['Contents']"
   ]
  },
  {
   "cell_type": "code",
   "execution_count": null,
   "metadata": {},
   "outputs": [],
   "source": [
    "\n",
    "# Iterate over the pages and print the object key for each object\n",
    "for page in page_iterator:\n",
    "    for object in page['Contents']:\n",
    "        print(object['Key'])"
   ]
  },
  {
   "cell_type": "code",
   "execution_count": 14,
   "metadata": {},
   "outputs": [
    {
     "ename": "ClientError",
     "evalue": "An error occurred (403) when calling the HeadObject operation: Forbidden",
     "output_type": "error",
     "traceback": [
      "\u001b[0;31m---------------------------------------------------------------------------\u001b[0m",
      "\u001b[0;31mClientError\u001b[0m                               Traceback (most recent call last)",
      "Cell \u001b[0;32mIn[14], line 80\u001b[0m\n\u001b[1;32m     77\u001b[0m \u001b[39m# Iterate over the objects in the bucket\u001b[39;00m\n\u001b[1;32m     78\u001b[0m \u001b[39mfor\u001b[39;00m \u001b[39mobject\u001b[39m \u001b[39min\u001b[39;00m bucket\u001b[39m.\u001b[39mlist_objects():\n\u001b[1;32m     79\u001b[0m     \u001b[39m# Download the object\u001b[39;00m\n\u001b[0;32m---> 80\u001b[0m     bucket\u001b[39m.\u001b[39;49mdownload_object(\u001b[39mobject\u001b[39;49m[\u001b[39m'\u001b[39;49m\u001b[39mKey\u001b[39;49m\u001b[39m'\u001b[39;49m], \u001b[39m'\u001b[39;49m\u001b[39mtemp.zip\u001b[39;49m\u001b[39m'\u001b[39;49m)\n\u001b[1;32m     82\u001b[0m     \u001b[39m# Parse the manifest and print the title and file names and sizes\u001b[39;00m\n\u001b[1;32m     83\u001b[0m     title, files \u001b[39m=\u001b[39m bucket\u001b[39m.\u001b[39mparse_manifest(\u001b[39m'\u001b[39m\u001b[39mtemp.zip\u001b[39m\u001b[39m'\u001b[39m)\n",
      "Cell \u001b[0;32mIn[14], line 25\u001b[0m, in \u001b[0;36mBucket.download_object\u001b[0;34m(self, object_key, filename)\u001b[0m\n\u001b[1;32m     23\u001b[0m \u001b[39mdef\u001b[39;00m \u001b[39mdownload_object\u001b[39m(\u001b[39mself\u001b[39m, object_key, filename):\n\u001b[1;32m     24\u001b[0m     \u001b[39m# Download the given object from the bucket and save it to the given filename\u001b[39;00m\n\u001b[0;32m---> 25\u001b[0m     \u001b[39mself\u001b[39;49m\u001b[39m.\u001b[39;49ms3_client\u001b[39m.\u001b[39;49mdownload_file(\n\u001b[1;32m     26\u001b[0m         Bucket\u001b[39m=\u001b[39;49m\u001b[39mself\u001b[39;49m\u001b[39m.\u001b[39;49mbucket_name, \n\u001b[1;32m     27\u001b[0m         Key\u001b[39m=\u001b[39;49mobject_key, \n\u001b[1;32m     28\u001b[0m         Filename\u001b[39m=\u001b[39;49mfilename, \n\u001b[1;32m     29\u001b[0m         ExtraArgs\u001b[39m=\u001b[39;49m{\u001b[39m'\u001b[39;49m\u001b[39mRequestPayer\u001b[39;49m\u001b[39m'\u001b[39;49m: \u001b[39mself\u001b[39;49m\u001b[39m.\u001b[39;49mrequester_pays})\n",
      "File \u001b[0;32m~/Library/Caches/pypoetry/virtualenvs/paperview-4k-hCekM-py3.11/lib/python3.11/site-packages/boto3/s3/inject.py:190\u001b[0m, in \u001b[0;36mdownload_file\u001b[0;34m(self, Bucket, Key, Filename, ExtraArgs, Callback, Config)\u001b[0m\n\u001b[1;32m    155\u001b[0m \u001b[39m\"\"\"Download an S3 object to a file.\u001b[39;00m\n\u001b[1;32m    156\u001b[0m \n\u001b[1;32m    157\u001b[0m \u001b[39mUsage::\u001b[39;00m\n\u001b[0;32m   (...)\u001b[0m\n\u001b[1;32m    187\u001b[0m \u001b[39m    transfer.\u001b[39;00m\n\u001b[1;32m    188\u001b[0m \u001b[39m\"\"\"\u001b[39;00m\n\u001b[1;32m    189\u001b[0m \u001b[39mwith\u001b[39;00m S3Transfer(\u001b[39mself\u001b[39m, Config) \u001b[39mas\u001b[39;00m transfer:\n\u001b[0;32m--> 190\u001b[0m     \u001b[39mreturn\u001b[39;00m transfer\u001b[39m.\u001b[39;49mdownload_file(\n\u001b[1;32m    191\u001b[0m         bucket\u001b[39m=\u001b[39;49mBucket,\n\u001b[1;32m    192\u001b[0m         key\u001b[39m=\u001b[39;49mKey,\n\u001b[1;32m    193\u001b[0m         filename\u001b[39m=\u001b[39;49mFilename,\n\u001b[1;32m    194\u001b[0m         extra_args\u001b[39m=\u001b[39;49mExtraArgs,\n\u001b[1;32m    195\u001b[0m         callback\u001b[39m=\u001b[39;49mCallback,\n\u001b[1;32m    196\u001b[0m     )\n",
      "File \u001b[0;32m~/Library/Caches/pypoetry/virtualenvs/paperview-4k-hCekM-py3.11/lib/python3.11/site-packages/boto3/s3/transfer.py:326\u001b[0m, in \u001b[0;36mS3Transfer.download_file\u001b[0;34m(self, bucket, key, filename, extra_args, callback)\u001b[0m\n\u001b[1;32m    322\u001b[0m future \u001b[39m=\u001b[39m \u001b[39mself\u001b[39m\u001b[39m.\u001b[39m_manager\u001b[39m.\u001b[39mdownload(\n\u001b[1;32m    323\u001b[0m     bucket, key, filename, extra_args, subscribers\n\u001b[1;32m    324\u001b[0m )\n\u001b[1;32m    325\u001b[0m \u001b[39mtry\u001b[39;00m:\n\u001b[0;32m--> 326\u001b[0m     future\u001b[39m.\u001b[39;49mresult()\n\u001b[1;32m    327\u001b[0m \u001b[39m# This is for backwards compatibility where when retries are\u001b[39;00m\n\u001b[1;32m    328\u001b[0m \u001b[39m# exceeded we need to throw the same error from boto3 instead of\u001b[39;00m\n\u001b[1;32m    329\u001b[0m \u001b[39m# s3transfer's built in RetriesExceededError as current users are\u001b[39;00m\n\u001b[1;32m    330\u001b[0m \u001b[39m# catching the boto3 one instead of the s3transfer exception to do\u001b[39;00m\n\u001b[1;32m    331\u001b[0m \u001b[39m# their own retries.\u001b[39;00m\n\u001b[1;32m    332\u001b[0m \u001b[39mexcept\u001b[39;00m S3TransferRetriesExceededError \u001b[39mas\u001b[39;00m e:\n",
      "File \u001b[0;32m~/Library/Caches/pypoetry/virtualenvs/paperview-4k-hCekM-py3.11/lib/python3.11/site-packages/s3transfer/futures.py:103\u001b[0m, in \u001b[0;36mTransferFuture.result\u001b[0;34m(self)\u001b[0m\n\u001b[1;32m     98\u001b[0m \u001b[39mdef\u001b[39;00m \u001b[39mresult\u001b[39m(\u001b[39mself\u001b[39m):\n\u001b[1;32m     99\u001b[0m     \u001b[39mtry\u001b[39;00m:\n\u001b[1;32m    100\u001b[0m         \u001b[39m# Usually the result() method blocks until the transfer is done,\u001b[39;00m\n\u001b[1;32m    101\u001b[0m         \u001b[39m# however if a KeyboardInterrupt is raised we want want to exit\u001b[39;00m\n\u001b[1;32m    102\u001b[0m         \u001b[39m# out of this and propagate the exception.\u001b[39;00m\n\u001b[0;32m--> 103\u001b[0m         \u001b[39mreturn\u001b[39;00m \u001b[39mself\u001b[39;49m\u001b[39m.\u001b[39;49m_coordinator\u001b[39m.\u001b[39;49mresult()\n\u001b[1;32m    104\u001b[0m     \u001b[39mexcept\u001b[39;00m \u001b[39mKeyboardInterrupt\u001b[39;00m \u001b[39mas\u001b[39;00m e:\n\u001b[1;32m    105\u001b[0m         \u001b[39mself\u001b[39m\u001b[39m.\u001b[39mcancel()\n",
      "File \u001b[0;32m~/Library/Caches/pypoetry/virtualenvs/paperview-4k-hCekM-py3.11/lib/python3.11/site-packages/s3transfer/futures.py:266\u001b[0m, in \u001b[0;36mTransferCoordinator.result\u001b[0;34m(self)\u001b[0m\n\u001b[1;32m    263\u001b[0m \u001b[39m# Once done waiting, raise an exception if present or return the\u001b[39;00m\n\u001b[1;32m    264\u001b[0m \u001b[39m# final result.\u001b[39;00m\n\u001b[1;32m    265\u001b[0m \u001b[39mif\u001b[39;00m \u001b[39mself\u001b[39m\u001b[39m.\u001b[39m_exception:\n\u001b[0;32m--> 266\u001b[0m     \u001b[39mraise\u001b[39;00m \u001b[39mself\u001b[39m\u001b[39m.\u001b[39m_exception\n\u001b[1;32m    267\u001b[0m \u001b[39mreturn\u001b[39;00m \u001b[39mself\u001b[39m\u001b[39m.\u001b[39m_result\n",
      "File \u001b[0;32m~/Library/Caches/pypoetry/virtualenvs/paperview-4k-hCekM-py3.11/lib/python3.11/site-packages/s3transfer/tasks.py:269\u001b[0m, in \u001b[0;36mSubmissionTask._main\u001b[0;34m(self, transfer_future, **kwargs)\u001b[0m\n\u001b[1;32m    265\u001b[0m     \u001b[39mself\u001b[39m\u001b[39m.\u001b[39m_transfer_coordinator\u001b[39m.\u001b[39mset_status_to_running()\n\u001b[1;32m    267\u001b[0m     \u001b[39m# Call the submit method to start submitting tasks to execute the\u001b[39;00m\n\u001b[1;32m    268\u001b[0m     \u001b[39m# transfer.\u001b[39;00m\n\u001b[0;32m--> 269\u001b[0m     \u001b[39mself\u001b[39;49m\u001b[39m.\u001b[39;49m_submit(transfer_future\u001b[39m=\u001b[39;49mtransfer_future, \u001b[39m*\u001b[39;49m\u001b[39m*\u001b[39;49mkwargs)\n\u001b[1;32m    270\u001b[0m \u001b[39mexcept\u001b[39;00m \u001b[39mBaseException\u001b[39;00m \u001b[39mas\u001b[39;00m e:\n\u001b[1;32m    271\u001b[0m     \u001b[39m# If there was an exception raised during the submission of task\u001b[39;00m\n\u001b[1;32m    272\u001b[0m     \u001b[39m# there is a chance that the final task that signals if a transfer\u001b[39;00m\n\u001b[0;32m   (...)\u001b[0m\n\u001b[1;32m    281\u001b[0m \n\u001b[1;32m    282\u001b[0m     \u001b[39m# Set the exception, that caused the process to fail.\u001b[39;00m\n\u001b[1;32m    283\u001b[0m     \u001b[39mself\u001b[39m\u001b[39m.\u001b[39m_log_and_set_exception(e)\n",
      "File \u001b[0;32m~/Library/Caches/pypoetry/virtualenvs/paperview-4k-hCekM-py3.11/lib/python3.11/site-packages/s3transfer/download.py:354\u001b[0m, in \u001b[0;36mDownloadSubmissionTask._submit\u001b[0;34m(self, client, config, osutil, request_executor, io_executor, transfer_future, bandwidth_limiter)\u001b[0m\n\u001b[1;32m    325\u001b[0m \u001b[39m\"\"\"\u001b[39;00m\n\u001b[1;32m    326\u001b[0m \u001b[39m:param client: The client associated with the transfer manager\u001b[39;00m\n\u001b[1;32m    327\u001b[0m \n\u001b[0;32m   (...)\u001b[0m\n\u001b[1;32m    349\u001b[0m \u001b[39m    downloading streams\u001b[39;00m\n\u001b[1;32m    350\u001b[0m \u001b[39m\"\"\"\u001b[39;00m\n\u001b[1;32m    351\u001b[0m \u001b[39mif\u001b[39;00m transfer_future\u001b[39m.\u001b[39mmeta\u001b[39m.\u001b[39msize \u001b[39mis\u001b[39;00m \u001b[39mNone\u001b[39;00m:\n\u001b[1;32m    352\u001b[0m     \u001b[39m# If a size was not provided figure out the size for the\u001b[39;00m\n\u001b[1;32m    353\u001b[0m     \u001b[39m# user.\u001b[39;00m\n\u001b[0;32m--> 354\u001b[0m     response \u001b[39m=\u001b[39m client\u001b[39m.\u001b[39;49mhead_object(\n\u001b[1;32m    355\u001b[0m         Bucket\u001b[39m=\u001b[39;49mtransfer_future\u001b[39m.\u001b[39;49mmeta\u001b[39m.\u001b[39;49mcall_args\u001b[39m.\u001b[39;49mbucket,\n\u001b[1;32m    356\u001b[0m         Key\u001b[39m=\u001b[39;49mtransfer_future\u001b[39m.\u001b[39;49mmeta\u001b[39m.\u001b[39;49mcall_args\u001b[39m.\u001b[39;49mkey,\n\u001b[1;32m    357\u001b[0m         \u001b[39m*\u001b[39;49m\u001b[39m*\u001b[39;49mtransfer_future\u001b[39m.\u001b[39;49mmeta\u001b[39m.\u001b[39;49mcall_args\u001b[39m.\u001b[39;49mextra_args,\n\u001b[1;32m    358\u001b[0m     )\n\u001b[1;32m    359\u001b[0m     transfer_future\u001b[39m.\u001b[39mmeta\u001b[39m.\u001b[39mprovide_transfer_size(\n\u001b[1;32m    360\u001b[0m         response[\u001b[39m'\u001b[39m\u001b[39mContentLength\u001b[39m\u001b[39m'\u001b[39m]\n\u001b[1;32m    361\u001b[0m     )\n\u001b[1;32m    363\u001b[0m download_output_manager \u001b[39m=\u001b[39m \u001b[39mself\u001b[39m\u001b[39m.\u001b[39m_get_download_output_manager_cls(\n\u001b[1;32m    364\u001b[0m     transfer_future, osutil\n\u001b[1;32m    365\u001b[0m )(osutil, \u001b[39mself\u001b[39m\u001b[39m.\u001b[39m_transfer_coordinator, io_executor)\n",
      "File \u001b[0;32m~/Library/Caches/pypoetry/virtualenvs/paperview-4k-hCekM-py3.11/lib/python3.11/site-packages/botocore/client.py:530\u001b[0m, in \u001b[0;36mClientCreator._create_api_method.<locals>._api_call\u001b[0;34m(self, *args, **kwargs)\u001b[0m\n\u001b[1;32m    526\u001b[0m     \u001b[39mraise\u001b[39;00m \u001b[39mTypeError\u001b[39;00m(\n\u001b[1;32m    527\u001b[0m         \u001b[39mf\u001b[39m\u001b[39m\"\u001b[39m\u001b[39m{\u001b[39;00mpy_operation_name\u001b[39m}\u001b[39;00m\u001b[39m() only accepts keyword arguments.\u001b[39m\u001b[39m\"\u001b[39m\n\u001b[1;32m    528\u001b[0m     )\n\u001b[1;32m    529\u001b[0m \u001b[39m# The \"self\" in this scope is referring to the BaseClient.\u001b[39;00m\n\u001b[0;32m--> 530\u001b[0m \u001b[39mreturn\u001b[39;00m \u001b[39mself\u001b[39;49m\u001b[39m.\u001b[39;49m_make_api_call(operation_name, kwargs)\n",
      "File \u001b[0;32m~/Library/Caches/pypoetry/virtualenvs/paperview-4k-hCekM-py3.11/lib/python3.11/site-packages/botocore/client.py:960\u001b[0m, in \u001b[0;36mBaseClient._make_api_call\u001b[0;34m(self, operation_name, api_params)\u001b[0m\n\u001b[1;32m    958\u001b[0m     error_code \u001b[39m=\u001b[39m parsed_response\u001b[39m.\u001b[39mget(\u001b[39m\"\u001b[39m\u001b[39mError\u001b[39m\u001b[39m\"\u001b[39m, {})\u001b[39m.\u001b[39mget(\u001b[39m\"\u001b[39m\u001b[39mCode\u001b[39m\u001b[39m\"\u001b[39m)\n\u001b[1;32m    959\u001b[0m     error_class \u001b[39m=\u001b[39m \u001b[39mself\u001b[39m\u001b[39m.\u001b[39mexceptions\u001b[39m.\u001b[39mfrom_code(error_code)\n\u001b[0;32m--> 960\u001b[0m     \u001b[39mraise\u001b[39;00m error_class(parsed_response, operation_name)\n\u001b[1;32m    961\u001b[0m \u001b[39melse\u001b[39;00m:\n\u001b[1;32m    962\u001b[0m     \u001b[39mreturn\u001b[39;00m parsed_response\n",
      "\u001b[0;31mClientError\u001b[0m: An error occurred (403) when calling the HeadObject operation: Forbidden"
     ]
    }
   ],
   "source": [
    "import boto3\n",
    "import zipfile\n",
    "import xml.etree.ElementTree as ET\n",
    "import os\n",
    "\n",
    "class Bucket:\n",
    "    def __init__(self, bucket_name:str, access_key=None, secret_key=None, requester_pays='True', prefix=''):\n",
    "        # Create an S3 client using the given access and secret keys\n",
    "        self.s3_client = boto3.client('s3', aws_access_key_id=access_key, aws_secret_access_key=secret_key)\n",
    "        self.bucket_name = bucket_name\n",
    "        self.requester_pays = requester_pays\n",
    "        self.prefix = prefix\n",
    "\n",
    "    \n",
    "    def list_objects(self):\n",
    "        # List the objects in the bucket, with the given prefix and requester pays flag\n",
    "        paginator = self.s3_client.get_paginator('list_objects_v2')\n",
    "        page_iterator = paginator.paginate(Bucket=self.bucket_name, Prefix=self.prefix, RequestPayer='requester')\n",
    "        for page in page_iterator:\n",
    "            for object in page['Contents']:\n",
    "                yield object\n",
    "    \n",
    "    def download_object(self, object_key, filename):\n",
    "        # Download the given object from the bucket and save it to the given filename\n",
    "        self.s3_client.download_file(\n",
    "            Bucket=self.bucket_name, \n",
    "            Key=object_key, \n",
    "            Filename=filename, \n",
    "            ExtraArgs={'RequestPayer': self.requester_pays})\n",
    "\n",
    "    def parse_manifest(self, zip_filename):\n",
    "        # Extract the zip file and parse the manifest.xml file\n",
    "        with zipfile.ZipFile(zip_filename, 'r') as zip_ref:\n",
    "            zip_ref.extractall()\n",
    "        tree = ET.parse('manifest.xml')\n",
    "        root = tree.getroot()\n",
    "        \n",
    "        # Return the manuscript title and the files\n",
    "    def parse_manifest(self, zip_filename):\n",
    "        # Extract the zip file and parse the manifest.xml file\n",
    "        with zipfile.ZipFile(zip_filename, 'r') as zip_ref:\n",
    "            zip_ref.extractall()\n",
    "        tree = ET.parse('manifest.xml')\n",
    "        root = tree.getroot()\n",
    "        \n",
    "        # Return the manuscript title and the files in the content folder\n",
    "        title = root.find('./title')\n",
    "        files = []\n",
    "        for file in root.findall('./file'):\n",
    "            name = file.find('name').text\n",
    "            size = file.find('size').text\n",
    "            files.append((name, size))\n",
    "        return title.text, files\n",
    "    \n",
    "    def cleanup(self, zip_filename):\n",
    "        # Clean up the extracted files\n",
    "        zip_ref.close()\n",
    "        os.remove(zip_filename)\n",
    "        os.remove('manifest.xml')\n",
    "\n",
    "# Example usage\n",
    "\n",
    "# Replace YOUR_ACCESS_KEY and YOUR_SECRET_KEY with your own access and secret keys\n",
    "access_key = 'YOUR_ACCESS_KEY'\n",
    "secret_key = 'YOUR_SECRET_KEY'\n",
    "\n",
    "# Set the bucket name and the requester pays flag\n",
    "bucket_name = 'biorxiv-src-monthly'\n",
    "requester_pays = True\n",
    "\n",
    "# Set the prefix to filter the objects by\n",
    "prefix = ''\n",
    "\n",
    "# Create a Bucket instance\n",
    "bucket = Bucket(bucket_name=bucket_name)\n",
    "\n",
    "# Iterate over the objects in the bucket\n",
    "for object in bucket.list_objects():\n",
    "    # Download the object\n",
    "    bucket.download_object(object['Key'], 'temp.zip')\n",
    "    \n",
    "    # Parse the manifest and print the title and file names and sizes\n",
    "    title, files = bucket.parse_manifest('temp.zip')\n",
    "    print(title)\n",
    "    for name, size in files:\n",
    "        print(f'{name}: {size} bytes')\n",
    "    \n",
    "    # Clean up\n",
    "    bucket.cleanup('temp.zip')\n",
    "\n",
    "    break\n",
    "\n"
   ]
  },
  {
   "cell_type": "code",
   "execution_count": null,
   "metadata": {},
   "outputs": [],
   "source": [
    "ti"
   ]
  }
 ],
 "metadata": {
  "kernelspec": {
   "display_name": "paperview-4k-hCekM-py3.11",
   "language": "python",
   "name": "python3"
  },
  "language_info": {
   "codemirror_mode": {
    "name": "ipython",
    "version": 3
   },
   "file_extension": ".py",
   "mimetype": "text/x-python",
   "name": "python",
   "nbconvert_exporter": "python",
   "pygments_lexer": "ipython3",
   "version": "3.11.0"
  },
  "orig_nbformat": 4,
  "vscode": {
   "interpreter": {
    "hash": "13bd9755bdc1f7f946bc8be6624e106ea58c17d01acc6017bdb2e1f4dff75035"
   }
  }
 },
 "nbformat": 4,
 "nbformat_minor": 2
}
